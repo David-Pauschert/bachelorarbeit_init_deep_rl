{
 "cells": [
  {
   "cell_type": "code",
   "execution_count": 1,
   "id": "6d1eee89",
   "metadata": {},
   "outputs": [],
   "source": [
    "import gym\n",
    "from stable_baselines3 import SAC, DQN, PPO, TD3, A2C\n",
    "from stable_baselines3.common.monitor import Monitor\n",
    "from stable_baselines3.common.noise import NormalActionNoise\n",
    "from parameter_initialization_deep_rl.models.sac.policies import SACPolicy\n",
    "from parameter_initialization_deep_rl.models.dqn.policies import DQNPolicy\n",
    "from parameter_initialization_deep_rl.models.td3.policies import TD3Policy\n",
    "from parameter_initialization_deep_rl.common.policies import ActorCriticPolicy\n",
    "from parameter_initialization_deep_rl.common.evaluate import run_multiple_trials\n",
    "from parameter_initialization_deep_rl.common.helpers import configure_policy, linear_schedule\n",
    "from torch.nn.modules.activation import Sigmoid, Tanh, ReLU, LeakyReLU\n",
    "import numpy as np"
   ]
  },
  {
   "cell_type": "code",
   "execution_count": 2,
   "id": "8b3793fd",
   "metadata": {},
   "outputs": [],
   "source": [
    "# Method that returns the index of the configuration where the experiments need to be resumed\n",
    "def get_last_index(policy_kwargs, config):\n",
    "    for i in range(len(policy_kwargs)):\n",
    "        if policy_kwargs[i] == config:\n",
    "            return i     "
   ]
  },
  {
   "cell_type": "code",
   "execution_count": 3,
   "id": "4333dd04",
   "metadata": {},
   "outputs": [
    {
     "name": "stdout",
     "output_type": "stream",
     "text": [
      "32\n"
     ]
    }
   ],
   "source": [
    "# Get all configurations of (weight_init, activation_fn, bias_init) tuples tested in experiment as a list of dictionaries\n",
    "policy_kwargs = configure_policy(include_bias=False)\n",
    "print(len(policy_kwargs))"
   ]
  },
  {
   "cell_type": "code",
   "execution_count": 4,
   "id": "3a5a3c7c",
   "metadata": {},
   "outputs": [],
   "source": [
    "# The configuration with which the experiments were left off the last time (due to crash, stopping, etc.)\n",
    "last_config = dict(\n",
    "    weight_init = \"kaiming_normal\",\n",
    "    bias_init = \"random_uniform\",\n",
    "    activation_fn = ReLU,\n",
    ")"
   ]
  },
  {
   "cell_type": "code",
   "execution_count": 5,
   "id": "b7caafac",
   "metadata": {},
   "outputs": [],
   "source": [
    "# Hyperparameter that are used for the specific algorithm in that particular environment\n",
    "hyperparameter = dict(\n",
    "    learning_rate = 7.3e-4,\n",
    "    buffer_size = 300000,\n",
    "    batch_size = 256,\n",
    "    ent_coef = 'auto',\n",
    "    gamma = 0.98,\n",
    "    tau = 0.02,\n",
    "    train_freq = 64,\n",
    "    gradient_steps = 64,\n",
    "    learning_starts = 10000,\n",
    "    use_sde = True\n",
    ")"
   ]
  },
  {
   "cell_type": "code",
   "execution_count": null,
   "id": "4821c4db",
   "metadata": {},
   "outputs": [],
   "source": [
    "i = get_last_index(policy_kwargs, last_config) + 1\n",
    "# Train the configuration using the specified algorithm in the particular environment\n",
    "while i < len(policy_kwargs):\n",
    "    config = policy_kwargs[i]\n",
    "    # Add network architecture to config\n",
    "    config[\"net_arch\"] = [400,300]\n",
    "    # Set the initial log std (specific to SAC)\n",
    "    config[\"log_std_init\"] = -3\n",
    "    i += 1\n",
    "    # Run the experiment for multiple runs using our own standard policies\n",
    "    log_data = run_multiple_trials(\n",
    "        env_name = \"BipedalWalker-v3\",\n",
    "        n_envs = 1,\n",
    "        algorithm=SAC,\n",
    "        policy=SACPolicy,\n",
    "        hyperparameter=hyperparameter,\n",
    "        policy_kwargs=config,\n",
    "        num_trials=5,\n",
    "        train_timesteps=2e5,\n",
    "        n_trial_rounds=10,\n",
    "        verbose=False\n",
    "    )\n",
    "    print(log_data)"
   ]
  },
  {
   "cell_type": "code",
   "execution_count": null,
   "id": "c10ea230",
   "metadata": {},
   "outputs": [],
   "source": []
  }
 ],
 "metadata": {
  "kernelspec": {
   "display_name": "Python 3.9.12 ('base')",
   "language": "python",
   "name": "python3"
  },
  "language_info": {
   "codemirror_mode": {
    "name": "ipython",
    "version": 3
   },
   "file_extension": ".py",
   "mimetype": "text/x-python",
   "name": "python",
   "nbconvert_exporter": "python",
   "pygments_lexer": "ipython3",
   "version": "3.9.12"
  },
  "vscode": {
   "interpreter": {
    "hash": "dbef0c893a59910565eb9c43a000ae2fe143ab4038181e38f0de48b2404771b4"
   }
  }
 },
 "nbformat": 4,
 "nbformat_minor": 5
}
